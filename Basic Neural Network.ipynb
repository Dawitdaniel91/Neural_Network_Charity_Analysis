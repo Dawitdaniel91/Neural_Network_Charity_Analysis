{
 "cells": [
  {
   "cell_type": "code",
   "execution_count": 1,
   "id": "18bf083f",
   "metadata": {},
   "outputs": [],
   "source": [
    "# Import our dependencies\n",
    "import pandas as pd\n",
    "import matplotlib as plt\n",
    "from sklearn.datasets import make_blobs\n",
    "import sklearn as skl\n",
    "import tensorflow as tf"
   ]
  },
  {
   "cell_type": "code",
   "execution_count": 2,
   "id": "9f7dd9ab",
   "metadata": {},
   "outputs": [
    {
     "data": {
      "text/plain": [
       "<AxesSubplot:xlabel='Feature 1', ylabel='Feature 2'>"
      ]
     },
     "execution_count": 2,
     "metadata": {},
     "output_type": "execute_result"
    },
    {
     "data": {
      "image/png": "[encoded data removed]",
      "text/plain": [
       "<Figure size 432x288 with 2 Axes>"
      ]
     },
     "metadata": {
      "needs_background": "light"
     },
     "output_type": "display_data"
    }
   ],
   "source": [
    "# Generate dummy dataset\n",
    "X, y = make_blobs(n_samples=1000, centers=2, n_features=2, random_state=78)\n",
    "\n",
    "# Creating a DataFrame with the dummy data\n",
    "df = pd.DataFrame(X, columns=[\"Feature 1\", \"Feature 2\"])\n",
    "df[\"Target\"] = y\n",
    "\n",
    "# Plotting the dummy data\n",
    "df.plot.scatter(x=\"Feature 1\", y=\"Feature 2\", c=\"Target\", colormap=\"winter\")"
   ]
  },
  {
   "cell_type": "code",
   "execution_count": 3,
   "id": "e5f10d17",
   "metadata": {},
   "outputs": [],
   "source": [
    "# Use sklearn to split dataset\n",
    "from sklearn.model_selection import train_test_split\n",
    "X_train, X_test, y_train, y_test = train_test_split(X, y, random_state=78)"
   ]
  },
  {
   "cell_type": "code",
   "execution_count": 5,
   "id": "42f8c023",
   "metadata": {},
   "outputs": [],
   "source": [
    " #Create scaler instance\n",
    "X_scaler = skl.preprocessing.StandardScaler()\n",
    "\n",
    "# Fit the scaler\n",
    "X_scaler.fit(X_train)\n",
    "\n",
    "# Scale the data\n",
    "X_train_scaled = X_scaler.transform(X_train)\n",
    "X_test_scaled = X_scaler.transform(X_test)"
   ]
  },
  {
   "cell_type": "code",
   "execution_count": 8,
   "id": "ae4e13c4",
   "metadata": {},
   "outputs": [],
   "source": [
    "# Create the Keras Sequential model\n",
    "nn_model = tf.keras.models.Sequential()"
   ]
  },
  {
   "cell_type": "code",
   "execution_count": 9,
   "id": "942b1fc4",
   "metadata": {},
   "outputs": [],
   "source": [
    "# Add our first Dense layer, including the input layer\n",
    "nn_model.add(tf.keras.layers.Dense(units=1, activation=\"relu\", input_dim=2))"
   ]
  },
  {
   "cell_type": "code",
   "execution_count": 10,
   "id": "e9faa98d",
   "metadata": {},
   "outputs": [],
   "source": [
    "# Add the output layer that uses a probability activation function\n",
    "nn_model.add(tf.keras.layers.Dense(units=1, activation=\"sigmoid\"))"
   ]
  },
  {
   "cell_type": "code",
   "execution_count": 11,
   "id": "8930b438",
   "metadata": {},
   "outputs": [
    {
     "name": "stdout",
     "output_type": "stream",
     "text": [
      "Model: \"sequential_2\"\n",
      "_________________________________________________________________\n",
      "Layer (type)                 Output Shape              Param #   \n",
      "=================================================================\n",
      "dense (Dense)                (None, 1)                 3         \n",
      "_________________________________________________________________\n",
      "dense_1 (Dense)              (None, 1)                 2         \n",
      "=================================================================\n",
      "Total params: 5\n",
      "Trainable params: 5\n",
      "Non-trainable params: 0\n",
      "_________________________________________________________________\n"
     ]
    }
   ],
   "source": [
    "# Check the structure of the Sequential model\n",
    "nn_model.summary()"
   ]
  },
  {
   "cell_type": "code",
   "execution_count": 12,
   "id": "16a18588",
   "metadata": {},
   "outputs": [],
   "source": [
    "# Compile the Sequential model together and customize metrics\n",
    "nn_model.compile(loss=\"binary_crossentropy\", optimizer=\"adam\", metrics=[\"accuracy\"])"
   ]
  },
  {
   "cell_type": "code",
   "execution_count": 13,
   "id": "482e8c1c",
   "metadata": {},
   "outputs": [
    {
     "name": "stdout",
     "output_type": "stream",
     "text": [
      "Epoch 1/100\n",
      "24/24 [==============================] - 0s 551us/step - loss: 0.7342 - accuracy: 0.4573\n",
      "Epoch 2/100\n",
      "24/24 [==============================] - 0s 520us/step - loss: 0.7264 - accuracy: 0.3400\n",
      "Epoch 3/100\n",
      "24/24 [==============================] - 0s 477us/step - loss: 0.7200 - accuracy: 0.3587\n",
      "Epoch 4/100\n",
      "24/24 [==============================] - 0s 477us/step - loss: 0.7148 - accuracy: 0.3787\n",
      "Epoch 5/100\n",
      "24/24 [==============================] - 0s 564us/step - loss: 0.7104 - accuracy: 0.3867\n",
      "Epoch 6/100\n",
      "24/24 [==============================] - 0s 564us/step - loss: 0.7068 - accuracy: 0.3973\n",
      "Epoch 7/100\n",
      "24/24 [==============================] - 0s 520us/step - loss: 0.7037 - accuracy: 0.4093\n",
      "Epoch 8/100\n",
      "24/24 [==============================] - 0s 520us/step - loss: 0.7011 - accuracy: 0.4253\n",
      "Epoch 9/100\n",
      "24/24 [==============================] - 0s 477us/step - loss: 0.6990 - accuracy: 0.4453\n",
      "Epoch 10/100\n",
      "24/24 [==============================] - 0s 520us/step - loss: 0.6970 - accuracy: 0.4627\n",
      "Epoch 11/100\n",
      "24/24 [==============================] - 0s 520us/step - loss: 0.6954 - accuracy: 0.4760\n",
      "Epoch 12/100\n",
      "24/24 [==============================] - 0s 519us/step - loss: 0.6938 - accuracy: 0.4840\n",
      "Epoch 13/100\n",
      "24/24 [==============================] - 0s 477us/step - loss: 0.6925 - accuracy: 0.4947\n",
      "Epoch 14/100\n",
      "24/24 [==============================] - 0s 477us/step - loss: 0.6912 - accuracy: 0.5160\n",
      "Epoch 15/100\n",
      "24/24 [==============================] - 0s 520us/step - loss: 0.6899 - accuracy: 0.5347\n",
      "Epoch 16/100\n",
      "24/24 [==============================] - 0s 516us/step - loss: 0.6886 - accuracy: 0.5560\n",
      "Epoch 17/100\n",
      "24/24 [==============================] - 0s 520us/step - loss: 0.6871 - accuracy: 0.5707\n",
      "Epoch 18/100\n",
      "24/24 [==============================] - 0s 564us/step - loss: 0.6854 - accuracy: 0.5827\n",
      "Epoch 19/100\n",
      "24/24 [==============================] - 0s 518us/step - loss: 0.6835 - accuracy: 0.6000\n",
      "Epoch 20/100\n",
      "24/24 [==============================] - 0s 477us/step - loss: 0.6812 - accuracy: 0.6093\n",
      "Epoch 21/100\n",
      "24/24 [==============================] - 0s 520us/step - loss: 0.6785 - accuracy: 0.6307\n",
      "Epoch 22/100\n",
      "24/24 [==============================] - 0s 520us/step - loss: 0.6752 - accuracy: 0.6560\n",
      "Epoch 23/100\n",
      "24/24 [==============================] - 0s 477us/step - loss: 0.6711 - accuracy: 0.6733\n",
      "Epoch 24/100\n",
      "24/24 [==============================] - 0s 477us/step - loss: 0.6657 - accuracy: 0.7013\n",
      "Epoch 25/100\n",
      "24/24 [==============================] - 0s 434us/step - loss: 0.6589 - accuracy: 0.7373\n",
      "Epoch 26/100\n",
      "24/24 [==============================] - 0s 477us/step - loss: 0.6503 - accuracy: 0.7733\n",
      "Epoch 27/100\n",
      "24/24 [==============================] - 0s 520us/step - loss: 0.6396 - accuracy: 0.8093\n",
      "Epoch 28/100\n",
      "24/24 [==============================] - 0s 520us/step - loss: 0.6259 - accuracy: 0.8493\n",
      "Epoch 29/100\n",
      "24/24 [==============================] - 0s 564us/step - loss: 0.6088 - accuracy: 0.9027\n",
      "Epoch 30/100\n",
      "24/24 [==============================] - 0s 472us/step - loss: 0.5885 - accuracy: 0.9400\n",
      "Epoch 31/100\n",
      "24/24 [==============================] - 0s 477us/step - loss: 0.5662 - accuracy: 0.9627\n",
      "Epoch 32/100\n",
      "24/24 [==============================] - 0s 520us/step - loss: 0.5432 - accuracy: 0.9773\n",
      "Epoch 33/100\n",
      "24/24 [==============================] - 0s 520us/step - loss: 0.5197 - accuracy: 0.9867\n",
      "Epoch 34/100\n",
      "24/24 [==============================] - 0s 477us/step - loss: 0.4971 - accuracy: 0.9907\n",
      "Epoch 35/100\n",
      "24/24 [==============================] - 0s 477us/step - loss: 0.4754 - accuracy: 0.9947\n",
      "Epoch 36/100\n",
      "24/24 [==============================] - 0s 477us/step - loss: 0.4543 - accuracy: 1.0000\n",
      "Epoch 37/100\n",
      "24/24 [==============================] - 0s 477us/step - loss: 0.4345 - accuracy: 1.0000\n",
      "Epoch 38/100\n",
      "24/24 [==============================] - 0s 477us/step - loss: 0.4159 - accuracy: 1.0000\n",
      "Epoch 39/100\n",
      "24/24 [==============================] - 0s 477us/step - loss: 0.3984 - accuracy: 1.0000\n",
      "Epoch 40/100\n",
      "24/24 [==============================] - 0s 477us/step - loss: 0.3822 - accuracy: 1.0000\n",
      "Epoch 41/100\n",
      "24/24 [==============================] - 0s 477us/step - loss: 0.3670 - accuracy: 1.0000\n",
      "Epoch 42/100\n",
      "24/24 [==============================] - 0s 518us/step - loss: 0.3529 - accuracy: 1.0000\n",
      "Epoch 43/100\n",
      "24/24 [==============================] - 0s 477us/step - loss: 0.3396 - accuracy: 1.0000\n",
      "Epoch 44/100\n",
      "24/24 [==============================] - 0s 477us/step - loss: 0.3272 - accuracy: 1.0000\n",
      "Epoch 45/100\n",
      "24/24 [==============================] - 0s 477us/step - loss: 0.3156 - accuracy: 1.0000\n",
      "Epoch 46/100\n",
      "24/24 [==============================] - 0s 477us/step - loss: 0.3048 - accuracy: 1.0000\n",
      "Epoch 47/100\n",
      "24/24 [==============================] - 0s 520us/step - loss: 0.2945 - accuracy: 1.0000\n",
      "Epoch 48/100\n",
      "24/24 [==============================] - 0s 477us/step - loss: 0.2849 - accuracy: 1.0000\n",
      "Epoch 49/100\n",
      "24/24 [==============================] - 0s 477us/step - loss: 0.2758 - accuracy: 1.0000\n",
      "Epoch 50/100\n",
      "24/24 [==============================] - 0s 477us/step - loss: 0.2673 - accuracy: 1.0000\n",
      "Epoch 51/100\n",
      "24/24 [==============================] - 0s 520us/step - loss: 0.2592 - accuracy: 1.0000\n",
      "Epoch 52/100\n",
      "24/24 [==============================] - 0s 562us/step - loss: 0.2516 - accuracy: 1.0000\n",
      "Epoch 53/100\n",
      "24/24 [==============================] - 0s 520us/step - loss: 0.2444 - accuracy: 1.0000\n",
      "Epoch 54/100\n",
      "24/24 [==============================] - 0s 564us/step - loss: 0.2375 - accuracy: 1.0000\n",
      "Epoch 55/100\n",
      "24/24 [==============================] - 0s 520us/step - loss: 0.2310 - accuracy: 1.0000\n",
      "Epoch 56/100\n",
      "24/24 [==============================] - 0s 477us/step - loss: 0.2248 - accuracy: 1.0000\n",
      "Epoch 57/100\n",
      "24/24 [==============================] - 0s 477us/step - loss: 0.2189 - accuracy: 1.0000\n",
      "Epoch 58/100\n",
      "24/24 [==============================] - 0s 477us/step - loss: 0.2132 - accuracy: 1.0000\n",
      "Epoch 59/100\n",
      "24/24 [==============================] - 0s 477us/step - loss: 0.2078 - accuracy: 1.0000\n",
      "Epoch 60/100\n",
      "24/24 [==============================] - 0s 477us/step - loss: 0.2026 - accuracy: 1.0000\n",
      "Epoch 61/100\n",
      "24/24 [==============================] - 0s 477us/step - loss: 0.1977 - accuracy: 1.0000\n",
      "Epoch 62/100\n",
      "24/24 [==============================] - 0s 477us/step - loss: 0.1929 - accuracy: 1.0000\n",
      "Epoch 63/100\n",
      "24/24 [==============================] - 0s 477us/step - loss: 0.1884 - accuracy: 1.0000\n",
      "Epoch 64/100\n",
      "24/24 [==============================] - 0s 564us/step - loss: 0.1840 - accuracy: 1.0000\n",
      "Epoch 65/100\n",
      "24/24 [==============================] - 0s 520us/step - loss: 0.1798 - accuracy: 1.0000\n",
      "Epoch 66/100\n",
      "24/24 [==============================] - 0s 434us/step - loss: 0.1757 - accuracy: 1.0000\n",
      "Epoch 67/100\n",
      "24/24 [==============================] - 0s 477us/step - loss: 0.1718 - accuracy: 1.0000\n",
      "Epoch 68/100\n",
      "24/24 [==============================] - 0s 520us/step - loss: 0.1681 - accuracy: 1.0000\n",
      "Epoch 69/100\n",
      "24/24 [==============================] - 0s 433us/step - loss: 0.1644 - accuracy: 1.0000\n",
      "Epoch 70/100\n",
      "24/24 [==============================] - 0s 520us/step - loss: 0.1609 - accuracy: 1.0000\n",
      "Epoch 71/100\n",
      "24/24 [==============================] - 0s 518us/step - loss: 0.1576 - accuracy: 1.0000\n",
      "Epoch 72/100\n",
      "24/24 [==============================] - 0s 520us/step - loss: 0.1543 - accuracy: 1.0000\n",
      "Epoch 73/100\n",
      "24/24 [==============================] - 0s 520us/step - loss: 0.1511 - accuracy: 1.0000\n",
      "Epoch 74/100\n",
      "24/24 [==============================] - 0s 520us/step - loss: 0.1480 - accuracy: 1.0000\n",
      "Epoch 75/100\n",
      "24/24 [==============================] - 0s 477us/step - loss: 0.1450 - accuracy: 1.0000\n",
      "Epoch 76/100\n",
      "24/24 [==============================] - 0s 520us/step - loss: 0.1421 - accuracy: 1.0000\n",
      "Epoch 77/100\n",
      "24/24 [==============================] - 0s 520us/step - loss: 0.1393 - accuracy: 1.0000\n",
      "Epoch 78/100\n",
      "24/24 [==============================] - 0s 477us/step - loss: 0.1366 - accuracy: 1.0000\n",
      "Epoch 79/100\n",
      "24/24 [==============================] - 0s 520us/step - loss: 0.1340 - accuracy: 1.0000\n",
      "Epoch 80/100\n",
      "24/24 [==============================] - 0s 477us/step - loss: 0.1315 - accuracy: 1.0000\n",
      "Epoch 81/100\n",
      "24/24 [==============================] - 0s 477us/step - loss: 0.1290 - accuracy: 1.0000\n",
      "Epoch 82/100\n",
      "24/24 [==============================] - 0s 520us/step - loss: 0.1266 - accuracy: 1.0000\n",
      "Epoch 83/100\n",
      "24/24 [==============================] - 0s 520us/step - loss: 0.1242 - accuracy: 1.0000\n",
      "Epoch 84/100\n",
      "24/24 [==============================] - 0s 564us/step - loss: 0.1220 - accuracy: 1.0000\n",
      "Epoch 85/100\n",
      "24/24 [==============================] - 0s 520us/step - loss: 0.1197 - accuracy: 1.0000\n",
      "Epoch 86/100\n",
      "24/24 [==============================] - 0s 478us/step - loss: 0.1176 - accuracy: 1.0000\n",
      "Epoch 87/100\n",
      "24/24 [==============================] - 0s 477us/step - loss: 0.1155 - accuracy: 1.0000\n",
      "Epoch 88/100\n",
      "24/24 [==============================] - 0s 520us/step - loss: 0.1134 - accuracy: 1.0000\n",
      "Epoch 89/100\n",
      "24/24 [==============================] - 0s 477us/step - loss: 0.1114 - accuracy: 1.0000\n",
      "Epoch 90/100\n",
      "24/24 [==============================] - 0s 477us/step - loss: 0.1095 - accuracy: 1.0000\n",
      "Epoch 91/100\n",
      "24/24 [==============================] - 0s 434us/step - loss: 0.1076 - accuracy: 1.0000\n",
      "Epoch 92/100\n",
      "24/24 [==============================] - 0s 477us/step - loss: 0.1058 - accuracy: 1.0000\n",
      "Epoch 93/100\n",
      "24/24 [==============================] - 0s 477us/step - loss: 0.1040 - accuracy: 1.0000\n",
      "Epoch 94/100\n",
      "24/24 [==============================] - 0s 471us/step - loss: 0.1022 - accuracy: 1.0000\n",
      "Epoch 95/100\n",
      "24/24 [==============================] - 0s 431us/step - loss: 0.1005 - accuracy: 1.0000\n",
      "Epoch 96/100\n",
      "24/24 [==============================] - 0s 473us/step - loss: 0.0988 - accuracy: 1.0000\n",
      "Epoch 97/100\n",
      "24/24 [==============================] - 0s 477us/step - loss: 0.0972 - accuracy: 1.0000\n",
      "Epoch 98/100\n",
      "24/24 [==============================] - 0s 472us/step - loss: 0.0956 - accuracy: 1.0000\n",
      "Epoch 99/100\n",
      "24/24 [==============================] - 0s 434us/step - loss: 0.0940 - accuracy: 1.0000\n",
      "Epoch 100/100\n",
      "24/24 [==============================] - 0s 477us/step - loss: 0.0925 - accuracy: 1.0000\n"
     ]
    }
   ],
   "source": [
    "# Fit the model to the training data\n",
    "fit_model = nn_model.fit(X_train_scaled, y_train, epochs=100)"
   ]
  },
  {
   "cell_type": "code",
   "execution_count": 14,
   "id": "6795737f",
   "metadata": {},
   "outputs": [
    {
     "data": {
      "text/plain": [
       "<AxesSubplot:>"
      ]
     },
     "execution_count": 14,
     "metadata": {},
     "output_type": "execute_result"
    },
    {
     "data": {
      "image/png": "[encoded data removed]",
      "text/plain": [
       "<Figure size 432x288 with 1 Axes>"
      ]
     },
     "metadata": {
      "needs_background": "light"
     },
     "output_type": "display_data"
    }
   ],
   "source": [
    "# Create a DataFrame containing training history\n",
    "history_df = pd.DataFrame(fit_model.history, index=range(1,len(fit_model.history[\"loss\"])+1))\n",
    "\n",
    "# Plot the loss\n",
    "history_df.plot(y=\"loss\")"
   ]
  },
  {
   "cell_type": "code",
   "execution_count": 15,
   "id": "9d3a7bf6",
   "metadata": {},
   "outputs": [
    {
     "data": {
      "text/plain": [
       "<AxesSubplot:>"
      ]
     },
     "execution_count": 15,
     "metadata": {},
     "output_type": "execute_result"
    },
    {
     "data": {
      "image/png": "[encoded data removed]",
      "text/plain": [
       "<Figure size 432x288 with 1 Axes>"
      ]
     },
     "metadata": {
      "needs_background": "light"
     },
     "output_type": "display_data"
    }
   ],
   "source": [
    "# Plot the accuracy\n",
    "history_df.plot(y=\"accuracy\")"
   ]
  },
  {
   "cell_type": "code",
   "execution_count": 16,
   "id": "1495c14e",
   "metadata": {},
   "outputs": [
    {
     "name": "stdout",
     "output_type": "stream",
     "text": [
      "8/8 - 0s - loss: 0.0869 - accuracy: 1.0000\n",
      "Loss: 0.08686619251966476, Accuracy: 1.0\n"
     ]
    }
   ],
   "source": [
    "# Evaluate the model using the test data\n",
    "model_loss, model_accuracy = nn_model.evaluate(X_test_scaled,y_test,verbose=2)\n",
    "print(f\"Loss: {model_loss}, Accuracy: {model_accuracy}\")"
   ]
  },
  {
   "cell_type": "code",
   "execution_count": 17,
   "id": "29f23517",
   "metadata": {},
   "outputs": [
    {
     "data": {
      "text/plain": [
       "array([[0],\n",
       "       [1],\n",
       "       [0],\n",
       "       [1],\n",
       "       [0],\n",
       "       [0],\n",
       "       [1],\n",
       "       [1],\n",
       "       [1],\n",
       "       [0]])"
      ]
     },
     "execution_count": 17,
     "metadata": {},
     "output_type": "execute_result"
    }
   ],
   "source": [
    "# Predict the classification of a new set of blob data\n",
    "new_X, new_Y = make_blobs(n_samples=10, centers=2, n_features=2, random_state=78)\n",
    "new_X_scaled = X_scaler.transform(new_X)\n",
    "(nn_model.predict(new_X_scaled) > 0.5).astype(\"int32\")"
   ]
  },
  {
   "cell_type": "code",
   "execution_count": 18,
   "id": "bf7641fc",
   "metadata": {},
   "outputs": [
    {
     "data": {
      "text/plain": [
       "<AxesSubplot:xlabel='Feature 1', ylabel='Feature 2'>"
      ]
     },
     "execution_count": 18,
     "metadata": {},
     "output_type": "execute_result"
    },
    {
     "data": {
      "image/png": "[encoded data removed]",
      "text/plain": [
       "<Figure size 432x288 with 2 Axes>"
      ]
     },
     "metadata": {
      "needs_background": "light"
     },
     "output_type": "display_data"
    }
   ],
   "source": [
    "from sklearn.datasets import make_moons\n",
    "\n",
    "# Creating dummy nonlinear data\n",
    "X_moons, y_moons = make_moons(n_samples=1000, noise=0.08, random_state=78)\n",
    "\n",
    "# Transforming y_moons to a vertical vector\n",
    "y_moons = y_moons.reshape(-1, 1)\n",
    "\n",
    "# Creating a DataFrame to plot the nonlinear dummy data\n",
    "df_moons = pd.DataFrame(X_moons, columns=[\"Feature 1\", \"Feature 2\"])\n",
    "df_moons[\"Target\"] = y_moons\n",
    "\n",
    "# Plot the nonlinear dummy data\n",
    "df_moons.plot.scatter(x=\"Feature 1\",y=\"Feature 2\", c=\"Target\",colormap=\"winter\")"
   ]
  },
  {
   "cell_type": "code",
   "execution_count": 19,
   "id": "c038135b",
   "metadata": {},
   "outputs": [],
   "source": [
    "# Create training and testing sets\n",
    "X_moon_train, X_moon_test, y_moon_train, y_moon_test = train_test_split(\n",
    "    X_moons, y_moons, random_state=78\n",
    ")\n",
    "\n",
    "# Create the scaler instance\n",
    "X_moon_scaler = skl.preprocessing.StandardScaler()\n",
    "\n",
    "# Fit the scaler\n",
    "X_moon_scaler.fit(X_moon_train)\n",
    "\n",
    "# Scale the data\n",
    "X_moon_train_scaled = X_moon_scaler.transform(X_moon_train)\n",
    "X_moon_test_scaled = X_moon_scaler.transform(X_moon_test)"
   ]
  },
  {
   "cell_type": "code",
   "execution_count": 20,
   "id": "3b092f8e",
   "metadata": {},
   "outputs": [
    {
     "name": "stdout",
     "output_type": "stream",
     "text": [
      "Epoch 1/100\n",
      "24/24 [==============================] - 0s 737us/step - loss: 0.7261 - accuracy: 0.6427\n",
      "Epoch 2/100\n",
      "24/24 [==============================] - 0s 780us/step - loss: 0.6571 - accuracy: 0.6627\n",
      "Epoch 3/100\n",
      "24/24 [==============================] - 0s 780us/step - loss: 0.6051 - accuracy: 0.6800\n",
      "Epoch 4/100\n",
      "24/24 [==============================] - 0s 694us/step - loss: 0.5681 - accuracy: 0.6893\n",
      "Epoch 5/100\n",
      "24/24 [==============================] - 0s 781us/step - loss: 0.5409 - accuracy: 0.7027\n",
      "Epoch 6/100\n",
      "24/24 [==============================] - 0s 776us/step - loss: 0.5191 - accuracy: 0.7120\n",
      "Epoch 7/100\n",
      "24/24 [==============================] - 0s 780us/step - loss: 0.5011 - accuracy: 0.7187\n",
      "Epoch 8/100\n",
      "24/24 [==============================] - 0s 1ms/step - loss: 0.4863 - accuracy: 0.7253\n",
      "Epoch 9/100\n",
      "24/24 [==============================] - 0s 997us/step - loss: 0.4737 - accuracy: 0.7333\n",
      "Epoch 10/100\n",
      "24/24 [==============================] - 0s 867us/step - loss: 0.4624 - accuracy: 0.7400\n",
      "Epoch 11/100\n",
      "24/24 [==============================] - 0s 867us/step - loss: 0.4526 - accuracy: 0.7493\n",
      "Epoch 12/100\n",
      "24/24 [==============================] - 0s 781us/step - loss: 0.4435 - accuracy: 0.7547\n",
      "Epoch 13/100\n",
      "24/24 [==============================] - 0s 781us/step - loss: 0.4351 - accuracy: 0.7653\n",
      "Epoch 14/100\n",
      "24/24 [==============================] - 0s 781us/step - loss: 0.4273 - accuracy: 0.7720\n",
      "Epoch 15/100\n",
      "24/24 [==============================] - 0s 737us/step - loss: 0.4201 - accuracy: 0.7747\n",
      "Epoch 16/100\n",
      "24/24 [==============================] - 0s 737us/step - loss: 0.4135 - accuracy: 0.7800\n",
      "Epoch 17/100\n",
      "24/24 [==============================] - 0s 781us/step - loss: 0.4070 - accuracy: 0.7813\n",
      "Epoch 18/100\n",
      "24/24 [==============================] - 0s 781us/step - loss: 0.4008 - accuracy: 0.7880\n",
      "Epoch 19/100\n",
      "24/24 [==============================] - 0s 737us/step - loss: 0.3951 - accuracy: 0.7907\n",
      "Epoch 20/100\n",
      "24/24 [==============================] - 0s 781us/step - loss: 0.3896 - accuracy: 0.7907\n",
      "Epoch 21/100\n",
      "24/24 [==============================] - 0s 780us/step - loss: 0.3844 - accuracy: 0.7920\n",
      "Epoch 22/100\n",
      "24/24 [==============================] - 0s 737us/step - loss: 0.3792 - accuracy: 0.7987\n",
      "Epoch 23/100\n",
      "24/24 [==============================] - 0s 781us/step - loss: 0.3743 - accuracy: 0.8013\n",
      "Epoch 24/100\n",
      "24/24 [==============================] - 0s 867us/step - loss: 0.3695 - accuracy: 0.8067\n",
      "Epoch 25/100\n",
      "24/24 [==============================] - 0s 824us/step - loss: 0.3650 - accuracy: 0.8093\n",
      "Epoch 26/100\n",
      "24/24 [==============================] - 0s 781us/step - loss: 0.3606 - accuracy: 0.8120\n",
      "Epoch 27/100\n",
      "24/24 [==============================] - 0s 781us/step - loss: 0.3562 - accuracy: 0.8133\n",
      "Epoch 28/100\n",
      "24/24 [==============================] - 0s 737us/step - loss: 0.3521 - accuracy: 0.8187\n",
      "Epoch 29/100\n",
      "24/24 [==============================] - 0s 781us/step - loss: 0.3481 - accuracy: 0.8200\n",
      "Epoch 30/100\n",
      "24/24 [==============================] - 0s 781us/step - loss: 0.3442 - accuracy: 0.8253\n",
      "Epoch 31/100\n",
      "24/24 [==============================] - 0s 781us/step - loss: 0.3403 - accuracy: 0.8293\n",
      "Epoch 32/100\n",
      "24/24 [==============================] - 0s 781us/step - loss: 0.3367 - accuracy: 0.8320\n",
      "Epoch 33/100\n",
      "24/24 [==============================] - 0s 780us/step - loss: 0.3332 - accuracy: 0.8320\n",
      "Epoch 34/100\n",
      "24/24 [==============================] - 0s 737us/step - loss: 0.3298 - accuracy: 0.8333\n",
      "Epoch 35/100\n",
      "24/24 [==============================] - 0s 780us/step - loss: 0.3265 - accuracy: 0.8387\n",
      "Epoch 36/100\n",
      "24/24 [==============================] - 0s 737us/step - loss: 0.3233 - accuracy: 0.8440\n",
      "Epoch 37/100\n",
      "24/24 [==============================] - 0s 780us/step - loss: 0.3204 - accuracy: 0.8467\n",
      "Epoch 38/100\n",
      "24/24 [==============================] - 0s 826us/step - loss: 0.3176 - accuracy: 0.8467\n",
      "Epoch 39/100\n",
      "24/24 [==============================] - 0s 824us/step - loss: 0.3150 - accuracy: 0.8467\n",
      "Epoch 40/100\n",
      "24/24 [==============================] - 0s 780us/step - loss: 0.3125 - accuracy: 0.8507\n",
      "Epoch 41/100\n",
      "24/24 [==============================] - 0s 737us/step - loss: 0.3099 - accuracy: 0.8533\n",
      "Epoch 42/100\n",
      "24/24 [==============================] - 0s 781us/step - loss: 0.3077 - accuracy: 0.8560\n",
      "Epoch 43/100\n",
      "24/24 [==============================] - 0s 780us/step - loss: 0.3054 - accuracy: 0.8600\n",
      "Epoch 44/100\n",
      "24/24 [==============================] - 0s 824us/step - loss: 0.3034 - accuracy: 0.8613\n",
      "Epoch 45/100\n",
      "24/24 [==============================] - 0s 780us/step - loss: 0.3014 - accuracy: 0.8640\n",
      "Epoch 46/100\n",
      "24/24 [==============================] - 0s 824us/step - loss: 0.2995 - accuracy: 0.8653\n",
      "Epoch 47/100\n",
      "24/24 [==============================] - 0s 737us/step - loss: 0.2978 - accuracy: 0.8680\n",
      "Epoch 48/100\n",
      "24/24 [==============================] - 0s 781us/step - loss: 0.2961 - accuracy: 0.8680\n",
      "Epoch 49/100\n",
      "24/24 [==============================] - 0s 780us/step - loss: 0.2945 - accuracy: 0.8680\n",
      "Epoch 50/100\n",
      "24/24 [==============================] - 0s 911us/step - loss: 0.2929 - accuracy: 0.8680\n",
      "Epoch 51/100\n",
      "24/24 [==============================] - 0s 824us/step - loss: 0.2916 - accuracy: 0.8680\n",
      "Epoch 52/100\n",
      "24/24 [==============================] - 0s 824us/step - loss: 0.2901 - accuracy: 0.8707\n",
      "Epoch 53/100\n",
      "24/24 [==============================] - 0s 824us/step - loss: 0.2888 - accuracy: 0.8707\n",
      "Epoch 54/100\n",
      "24/24 [==============================] - 0s 797us/step - loss: 0.2875 - accuracy: 0.8707\n",
      "Epoch 55/100\n",
      "24/24 [==============================] - 0s 824us/step - loss: 0.2863 - accuracy: 0.8707\n",
      "Epoch 56/100\n",
      "24/24 [==============================] - 0s 737us/step - loss: 0.2851 - accuracy: 0.8720\n",
      "Epoch 57/100\n",
      "24/24 [==============================] - 0s 737us/step - loss: 0.2840 - accuracy: 0.8733\n",
      "Epoch 58/100\n",
      "24/24 [==============================] - 0s 732us/step - loss: 0.2830 - accuracy: 0.8733\n",
      "Epoch 59/100\n",
      "24/24 [==============================] - 0s 737us/step - loss: 0.2820 - accuracy: 0.8747\n",
      "Epoch 60/100\n",
      "24/24 [==============================] - 0s 737us/step - loss: 0.2810 - accuracy: 0.8760\n",
      "Epoch 61/100\n",
      "24/24 [==============================] - 0s 954us/step - loss: 0.2800 - accuracy: 0.8787\n",
      "Epoch 62/100\n",
      "24/24 [==============================] - 0s 824us/step - loss: 0.2792 - accuracy: 0.8787\n",
      "Epoch 63/100\n",
      "24/24 [==============================] - 0s 737us/step - loss: 0.2783 - accuracy: 0.8787\n",
      "Epoch 64/100\n",
      "24/24 [==============================] - 0s 737us/step - loss: 0.2776 - accuracy: 0.8800\n",
      "Epoch 65/100\n",
      "24/24 [==============================] - 0s 737us/step - loss: 0.2767 - accuracy: 0.8813\n",
      "Epoch 66/100\n",
      "24/24 [==============================] - 0s 737us/step - loss: 0.2760 - accuracy: 0.8840\n",
      "Epoch 67/100\n",
      "24/24 [==============================] - 0s 737us/step - loss: 0.2752 - accuracy: 0.8853\n",
      "Epoch 68/100\n",
      "24/24 [==============================] - 0s 694us/step - loss: 0.2745 - accuracy: 0.8867\n",
      "Epoch 69/100\n",
      "24/24 [==============================] - 0s 781us/step - loss: 0.2738 - accuracy: 0.8880\n",
      "Epoch 70/100\n",
      "24/24 [==============================] - 0s 737us/step - loss: 0.2732 - accuracy: 0.8880\n",
      "Epoch 71/100\n",
      "24/24 [==============================] - 0s 737us/step - loss: 0.2726 - accuracy: 0.8893\n",
      "Epoch 72/100\n",
      "24/24 [==============================] - 0s 781us/step - loss: 0.2719 - accuracy: 0.8893\n",
      "Epoch 73/100\n",
      "24/24 [==============================] - 0s 737us/step - loss: 0.2714 - accuracy: 0.8907\n",
      "Epoch 74/100\n",
      "24/24 [==============================] - 0s 740us/step - loss: 0.2708 - accuracy: 0.8920\n",
      "Epoch 75/100\n",
      "24/24 [==============================] - 0s 737us/step - loss: 0.2703 - accuracy: 0.8920\n",
      "Epoch 76/100\n",
      "24/24 [==============================] - 0s 737us/step - loss: 0.2698 - accuracy: 0.8933\n",
      "Epoch 77/100\n",
      "24/24 [==============================] - 0s 736us/step - loss: 0.2693 - accuracy: 0.8933\n",
      "Epoch 78/100\n",
      "24/24 [==============================] - 0s 694us/step - loss: 0.2688 - accuracy: 0.8933\n",
      "Epoch 79/100\n",
      "24/24 [==============================] - 0s 737us/step - loss: 0.2683 - accuracy: 0.8933\n",
      "Epoch 80/100\n",
      "24/24 [==============================] - 0s 781us/step - loss: 0.2678 - accuracy: 0.8933\n",
      "Epoch 81/100\n"
     ]
    },
    {
     "name": "stdout",
     "output_type": "stream",
     "text": [
      "24/24 [==============================] - 0s 730us/step - loss: 0.2673 - accuracy: 0.8933\n",
      "Epoch 82/100\n",
      "24/24 [==============================] - 0s 694us/step - loss: 0.2669 - accuracy: 0.8933\n",
      "Epoch 83/100\n",
      "24/24 [==============================] - 0s 780us/step - loss: 0.2665 - accuracy: 0.8933\n",
      "Epoch 84/100\n",
      "24/24 [==============================] - 0s 737us/step - loss: 0.2661 - accuracy: 0.8933\n",
      "Epoch 85/100\n",
      "24/24 [==============================] - 0s 780us/step - loss: 0.2657 - accuracy: 0.8933\n",
      "Epoch 86/100\n",
      "24/24 [==============================] - 0s 694us/step - loss: 0.2653 - accuracy: 0.8920\n",
      "Epoch 87/100\n",
      "24/24 [==============================] - 0s 867us/step - loss: 0.2649 - accuracy: 0.8920\n",
      "Epoch 88/100\n",
      "24/24 [==============================] - 0s 737us/step - loss: 0.2646 - accuracy: 0.8920\n",
      "Epoch 89/100\n",
      "24/24 [==============================] - 0s 737us/step - loss: 0.2642 - accuracy: 0.8920\n",
      "Epoch 90/100\n",
      "24/24 [==============================] - 0s 737us/step - loss: 0.2639 - accuracy: 0.8920\n",
      "Epoch 91/100\n",
      "24/24 [==============================] - 0s 781us/step - loss: 0.2636 - accuracy: 0.8907\n",
      "Epoch 92/100\n",
      "24/24 [==============================] - 0s 737us/step - loss: 0.2634 - accuracy: 0.8907\n",
      "Epoch 93/100\n",
      "24/24 [==============================] - 0s 738us/step - loss: 0.2629 - accuracy: 0.8920\n",
      "Epoch 94/100\n",
      "24/24 [==============================] - 0s 737us/step - loss: 0.2626 - accuracy: 0.8920\n",
      "Epoch 95/100\n",
      "24/24 [==============================] - 0s 867us/step - loss: 0.2624 - accuracy: 0.8920\n",
      "Epoch 96/100\n",
      "24/24 [==============================] - 0s 694us/step - loss: 0.2621 - accuracy: 0.8920\n",
      "Epoch 97/100\n",
      "24/24 [==============================] - 0s 737us/step - loss: 0.2618 - accuracy: 0.8920\n",
      "Epoch 98/100\n",
      "24/24 [==============================] - 0s 737us/step - loss: 0.2615 - accuracy: 0.8920\n",
      "Epoch 99/100\n",
      "24/24 [==============================] - 0s 737us/step - loss: 0.2612 - accuracy: 0.8920\n",
      "Epoch 100/100\n",
      "24/24 [==============================] - 0s 737us/step - loss: 0.2610 - accuracy: 0.8920\n"
     ]
    }
   ],
   "source": [
    "# Training the model with the nonlinear data\n",
    "model_moon = nn_model.fit(X_moon_train_scaled, y_moon_train, epochs=100, shuffle=True)"
   ]
  },
  {
   "cell_type": "code",
   "execution_count": 21,
   "id": "31931658",
   "metadata": {},
   "outputs": [
    {
     "data": {
      "text/plain": [
       "<AxesSubplot:>"
      ]
     },
     "execution_count": 21,
     "metadata": {},
     "output_type": "execute_result"
    },
    {
     "data": {
      "image/png": "[encoded data removed]",
      "text/plain": [
       "<Figure size 432x288 with 1 Axes>"
      ]
     },
     "metadata": {
      "needs_background": "light"
     },
     "output_type": "display_data"
    }
   ],
   "source": [
    "# Create a DataFrame containing training history\n",
    "history_df = pd.DataFrame(model_moon.history, index=range(1,len(model_moon.history[\"loss\"])+1))\n",
    "\n",
    "# Plot the loss\n",
    "history_df.plot(y=\"loss\")"
   ]
  },
  {
   "cell_type": "code",
   "execution_count": 22,
   "id": "041849c5",
   "metadata": {},
   "outputs": [
    {
     "data": {
      "text/plain": [
       "<AxesSubplot:>"
      ]
     },
     "execution_count": 22,
     "metadata": {},
     "output_type": "execute_result"
    },
    {
     "data": {
      "image/png": "[encoded data removed]",
      "text/plain": [
       "<Figure size 432x288 with 1 Axes>"
      ]
     },
     "metadata": {
      "needs_background": "light"
     },
     "output_type": "display_data"
    }
   ],
   "source": [
    "# Plot the accuracy\n",
    "history_df.plot(y=\"accuracy\")"
   ]
  },
  {
   "cell_type": "code",
   "execution_count": 23,
   "id": "d0fa23f8",
   "metadata": {},
   "outputs": [],
   "source": [
    "# Generate our new Sequential model\n",
    "new_model = tf.keras.models.Sequential()"
   ]
  },
  {
   "cell_type": "code",
   "execution_count": 24,
   "id": "e2950e7c",
   "metadata": {},
   "outputs": [],
   "source": [
    "# Add the input and hidden layer\n",
    "number_inputs = 2\n",
    "number_hidden_nodes = 6\n",
    "\n",
    "new_model.add(tf.keras.layers.Dense(units=number_hidden_nodes, activation=\"relu\", input_dim=number_inputs))\n",
    "\n",
    "# Add the output layer that uses a probability activation function\n",
    "new_model.add(tf.keras.layers.Dense(units=1, activation=\"sigmoid\"))"
   ]
  },
  {
   "cell_type": "code",
   "execution_count": 25,
   "id": "1adde054",
   "metadata": {},
   "outputs": [
    {
     "name": "stdout",
     "output_type": "stream",
     "text": [
      "Epoch 1/100\n",
      "24/24 [==============================] - 0s 520us/step - loss: 0.6711 - accuracy: 0.5013\n",
      "Epoch 2/100\n",
      "24/24 [==============================] - 0s 477us/step - loss: 0.6346 - accuracy: 0.4867\n",
      "Epoch 3/100\n",
      "24/24 [==============================] - 0s 520us/step - loss: 0.6018 - accuracy: 0.4840\n",
      "Epoch 4/100\n",
      "24/24 [==============================] - 0s 520us/step - loss: 0.5726 - accuracy: 0.5040\n",
      "Epoch 5/100\n",
      "24/24 [==============================] - 0s 520us/step - loss: 0.5457 - accuracy: 0.5413\n",
      "Epoch 6/100\n",
      "24/24 [==============================] - 0s 520us/step - loss: 0.5219 - accuracy: 0.5733\n",
      "Epoch 7/100\n",
      "24/24 [==============================] - 0s 520us/step - loss: 0.4993 - accuracy: 0.6187\n",
      "Epoch 8/100\n",
      "24/24 [==============================] - 0s 520us/step - loss: 0.4784 - accuracy: 0.6693\n",
      "Epoch 9/100\n",
      "24/24 [==============================] - 0s 561us/step - loss: 0.4587 - accuracy: 0.7320\n",
      "Epoch 10/100\n",
      "24/24 [==============================] - 0s 520us/step - loss: 0.4405 - accuracy: 0.8067\n",
      "Epoch 11/100\n",
      "24/24 [==============================] - 0s 520us/step - loss: 0.4236 - accuracy: 0.8573\n",
      "Epoch 12/100\n",
      "24/24 [==============================] - 0s 564us/step - loss: 0.4080 - accuracy: 0.8653\n",
      "Epoch 13/100\n",
      "24/24 [==============================] - 0s 519us/step - loss: 0.3934 - accuracy: 0.8680\n",
      "Epoch 14/100\n",
      "24/24 [==============================] - 0s 520us/step - loss: 0.3798 - accuracy: 0.8707\n",
      "Epoch 15/100\n",
      "24/24 [==============================] - 0s 477us/step - loss: 0.3676 - accuracy: 0.8747\n",
      "Epoch 16/100\n",
      "24/24 [==============================] - 0s 520us/step - loss: 0.3558 - accuracy: 0.8747\n",
      "Epoch 17/100\n",
      "24/24 [==============================] - 0s 520us/step - loss: 0.3455 - accuracy: 0.8760\n",
      "Epoch 18/100\n",
      "24/24 [==============================] - 0s 564us/step - loss: 0.3362 - accuracy: 0.8787\n",
      "Epoch 19/100\n",
      "24/24 [==============================] - 0s 563us/step - loss: 0.3278 - accuracy: 0.8800\n",
      "Epoch 20/100\n",
      "24/24 [==============================] - 0s 520us/step - loss: 0.3201 - accuracy: 0.8813\n",
      "Epoch 21/100\n",
      "24/24 [==============================] - 0s 520us/step - loss: 0.3125 - accuracy: 0.8813\n",
      "Epoch 22/100\n",
      "24/24 [==============================] - 0s 564us/step - loss: 0.3059 - accuracy: 0.8827\n",
      "Epoch 23/100\n",
      "24/24 [==============================] - 0s 564us/step - loss: 0.2998 - accuracy: 0.8840\n",
      "Epoch 24/100\n",
      "24/24 [==============================] - 0s 520us/step - loss: 0.2949 - accuracy: 0.8867\n",
      "Epoch 25/100\n",
      "24/24 [==============================] - 0s 477us/step - loss: 0.2901 - accuracy: 0.8867\n",
      "Epoch 26/100\n",
      "24/24 [==============================] - 0s 607us/step - loss: 0.2862 - accuracy: 0.8893\n",
      "Epoch 27/100\n",
      "24/24 [==============================] - 0s 477us/step - loss: 0.2826 - accuracy: 0.8893\n",
      "Epoch 28/100\n",
      "24/24 [==============================] - 0s 520us/step - loss: 0.2794 - accuracy: 0.8893\n",
      "Epoch 29/100\n",
      "24/24 [==============================] - 0s 564us/step - loss: 0.2763 - accuracy: 0.8893\n",
      "Epoch 30/100\n",
      "24/24 [==============================] - 0s 564us/step - loss: 0.2736 - accuracy: 0.8907\n",
      "Epoch 31/100\n",
      "24/24 [==============================] - 0s 520us/step - loss: 0.2712 - accuracy: 0.8907\n",
      "Epoch 32/100\n",
      "24/24 [==============================] - 0s 474us/step - loss: 0.2689 - accuracy: 0.8907\n",
      "Epoch 33/100\n",
      "24/24 [==============================] - 0s 477us/step - loss: 0.2670 - accuracy: 0.8907\n",
      "Epoch 34/100\n",
      "24/24 [==============================] - 0s 520us/step - loss: 0.2651 - accuracy: 0.8907\n",
      "Epoch 35/100\n",
      "24/24 [==============================] - 0s 520us/step - loss: 0.2633 - accuracy: 0.8907\n",
      "Epoch 36/100\n",
      "24/24 [==============================] - 0s 520us/step - loss: 0.2617 - accuracy: 0.8907\n",
      "Epoch 37/100\n",
      "24/24 [==============================] - 0s 477us/step - loss: 0.2602 - accuracy: 0.8933\n",
      "Epoch 38/100\n",
      "24/24 [==============================] - 0s 520us/step - loss: 0.2589 - accuracy: 0.8933\n",
      "Epoch 39/100\n",
      "24/24 [==============================] - 0s 520us/step - loss: 0.2575 - accuracy: 0.8920\n",
      "Epoch 40/100\n",
      "24/24 [==============================] - 0s 513us/step - loss: 0.2563 - accuracy: 0.8920\n",
      "Epoch 41/100\n",
      "24/24 [==============================] - 0s 564us/step - loss: 0.2552 - accuracy: 0.8920\n",
      "Epoch 42/100\n",
      "24/24 [==============================] - 0s 520us/step - loss: 0.2541 - accuracy: 0.8947\n",
      "Epoch 43/100\n",
      "24/24 [==============================] - 0s 520us/step - loss: 0.2531 - accuracy: 0.8960\n",
      "Epoch 44/100\n",
      "24/24 [==============================] - 0s 524us/step - loss: 0.2523 - accuracy: 0.8987\n",
      "Epoch 45/100\n",
      "24/24 [==============================] - 0s 520us/step - loss: 0.2515 - accuracy: 0.8987\n",
      "Epoch 46/100\n",
      "24/24 [==============================] - 0s 556us/step - loss: 0.2509 - accuracy: 0.9000\n",
      "Epoch 47/100\n",
      "24/24 [==============================] - 0s 520us/step - loss: 0.2499 - accuracy: 0.8987\n",
      "Epoch 48/100\n",
      "24/24 [==============================] - 0s 520us/step - loss: 0.2495 - accuracy: 0.8973\n",
      "Epoch 49/100\n",
      "24/24 [==============================] - 0s 477us/step - loss: 0.2488 - accuracy: 0.8973\n",
      "Epoch 50/100\n",
      "24/24 [==============================] - 0s 520us/step - loss: 0.2481 - accuracy: 0.8973\n",
      "Epoch 51/100\n",
      "24/24 [==============================] - 0s 477us/step - loss: 0.2476 - accuracy: 0.8973\n",
      "Epoch 52/100\n",
      "24/24 [==============================] - 0s 564us/step - loss: 0.2469 - accuracy: 0.8987\n",
      "Epoch 53/100\n",
      "24/24 [==============================] - 0s 563us/step - loss: 0.2463 - accuracy: 0.9013\n",
      "Epoch 54/100\n",
      "24/24 [==============================] - 0s 607us/step - loss: 0.2459 - accuracy: 0.9013\n",
      "Epoch 55/100\n",
      "24/24 [==============================] - 0s 520us/step - loss: 0.2452 - accuracy: 0.9013\n",
      "Epoch 56/100\n",
      "24/24 [==============================] - 0s 477us/step - loss: 0.2446 - accuracy: 0.9013\n",
      "Epoch 57/100\n",
      "24/24 [==============================] - 0s 477us/step - loss: 0.2441 - accuracy: 0.9000\n",
      "Epoch 58/100\n",
      "24/24 [==============================] - 0s 477us/step - loss: 0.2435 - accuracy: 0.9000\n",
      "Epoch 59/100\n",
      "24/24 [==============================] - 0s 520us/step - loss: 0.2430 - accuracy: 0.9000\n",
      "Epoch 60/100\n",
      "24/24 [==============================] - 0s 517us/step - loss: 0.2423 - accuracy: 0.9000\n",
      "Epoch 61/100\n",
      "24/24 [==============================] - 0s 520us/step - loss: 0.2418 - accuracy: 0.9000\n",
      "Epoch 62/100\n",
      "24/24 [==============================] - 0s 477us/step - loss: 0.2414 - accuracy: 0.9000\n",
      "Epoch 63/100\n",
      "24/24 [==============================] - 0s 477us/step - loss: 0.2408 - accuracy: 0.9000\n",
      "Epoch 64/100\n",
      "24/24 [==============================] - 0s 477us/step - loss: 0.2402 - accuracy: 0.9000\n",
      "Epoch 65/100\n",
      "24/24 [==============================] - 0s 520us/step - loss: 0.2398 - accuracy: 0.9000\n",
      "Epoch 66/100\n",
      "24/24 [==============================] - 0s 520us/step - loss: 0.2391 - accuracy: 0.9000\n",
      "Epoch 67/100\n",
      "24/24 [==============================] - 0s 477us/step - loss: 0.2386 - accuracy: 0.9000\n",
      "Epoch 68/100\n",
      "24/24 [==============================] - 0s 520us/step - loss: 0.2381 - accuracy: 0.9000\n",
      "Epoch 69/100\n",
      "24/24 [==============================] - 0s 520us/step - loss: 0.2376 - accuracy: 0.9000\n",
      "Epoch 70/100\n",
      "24/24 [==============================] - 0s 477us/step - loss: 0.2371 - accuracy: 0.9000\n",
      "Epoch 71/100\n",
      "24/24 [==============================] - 0s 520us/step - loss: 0.2365 - accuracy: 0.9000\n",
      "Epoch 72/100\n",
      "24/24 [==============================] - 0s 475us/step - loss: 0.2360 - accuracy: 0.9000\n",
      "Epoch 73/100\n",
      "24/24 [==============================] - 0s 477us/step - loss: 0.2355 - accuracy: 0.9000\n",
      "Epoch 74/100\n",
      "24/24 [==============================] - 0s 477us/step - loss: 0.2351 - accuracy: 0.9013\n",
      "Epoch 75/100\n",
      "24/24 [==============================] - 0s 564us/step - loss: 0.2345 - accuracy: 0.9000\n",
      "Epoch 76/100\n",
      "24/24 [==============================] - 0s 549us/step - loss: 0.2341 - accuracy: 0.9000\n",
      "Epoch 77/100\n",
      "24/24 [==============================] - 0s 520us/step - loss: 0.2336 - accuracy: 0.9013\n",
      "Epoch 78/100\n",
      "24/24 [==============================] - 0s 477us/step - loss: 0.2332 - accuracy: 0.9013\n",
      "Epoch 79/100\n",
      "24/24 [==============================] - 0s 520us/step - loss: 0.2326 - accuracy: 0.9013\n",
      "Epoch 80/100\n",
      "24/24 [==============================] - 0s 477us/step - loss: 0.2322 - accuracy: 0.9000\n",
      "Epoch 81/100\n"
     ]
    },
    {
     "name": "stdout",
     "output_type": "stream",
     "text": [
      "24/24 [==============================] - 0s 518us/step - loss: 0.2318 - accuracy: 0.9013\n",
      "Epoch 82/100\n",
      "24/24 [==============================] - 0s 519us/step - loss: 0.2312 - accuracy: 0.9000\n",
      "Epoch 83/100\n",
      "24/24 [==============================] - 0s 520us/step - loss: 0.2310 - accuracy: 0.9013\n",
      "Epoch 84/100\n",
      "24/24 [==============================] - 0s 434us/step - loss: 0.2302 - accuracy: 0.9013\n",
      "Epoch 85/100\n",
      "24/24 [==============================] - 0s 520us/step - loss: 0.2298 - accuracy: 0.9013\n",
      "Epoch 86/100\n",
      "24/24 [==============================] - 0s 520us/step - loss: 0.2294 - accuracy: 0.9013\n",
      "Epoch 87/100\n",
      "24/24 [==============================] - 0s 520us/step - loss: 0.2289 - accuracy: 0.9013\n",
      "Epoch 88/100\n",
      "24/24 [==============================] - 0s 476us/step - loss: 0.2284 - accuracy: 0.9027\n",
      "Epoch 89/100\n",
      "24/24 [==============================] - 0s 477us/step - loss: 0.2280 - accuracy: 0.9027\n",
      "Epoch 90/100\n",
      "24/24 [==============================] - 0s 516us/step - loss: 0.2275 - accuracy: 0.9027\n",
      "Epoch 91/100\n",
      "24/24 [==============================] - 0s 477us/step - loss: 0.2270 - accuracy: 0.9027\n",
      "Epoch 92/100\n",
      "24/24 [==============================] - 0s 477us/step - loss: 0.2264 - accuracy: 0.9027\n",
      "Epoch 93/100\n",
      "24/24 [==============================] - 0s 434us/step - loss: 0.2259 - accuracy: 0.9027\n",
      "Epoch 94/100\n",
      "24/24 [==============================] - 0s 477us/step - loss: 0.2255 - accuracy: 0.9027\n",
      "Epoch 95/100\n",
      "24/24 [==============================] - 0s 477us/step - loss: 0.2248 - accuracy: 0.9027\n",
      "Epoch 96/100\n",
      "24/24 [==============================] - 0s 520us/step - loss: 0.2243 - accuracy: 0.9027\n",
      "Epoch 97/100\n",
      "24/24 [==============================] - 0s 520us/step - loss: 0.2238 - accuracy: 0.9027\n",
      "Epoch 98/100\n",
      "24/24 [==============================] - 0s 434us/step - loss: 0.2233 - accuracy: 0.9027\n",
      "Epoch 99/100\n",
      "24/24 [==============================] - 0s 520us/step - loss: 0.2227 - accuracy: 0.9027\n",
      "Epoch 100/100\n",
      "24/24 [==============================] - 0s 520us/step - loss: 0.2223 - accuracy: 0.9027\n"
     ]
    }
   ],
   "source": [
    "# Compile the Sequential model together and customize metrics\n",
    "new_model.compile(loss=\"binary_crossentropy\", optimizer=\"adam\", metrics=[\"accuracy\"])\n",
    "\n",
    "# Fit the model to the training data\n",
    "new_fit_model = new_model.fit(X_moon_train_scaled, y_moon_train, epochs=100, shuffle=True)"
   ]
  },
  {
   "cell_type": "code",
   "execution_count": null,
   "id": "b2d54e47",
   "metadata": {},
   "outputs": [],
   "source": []
  }
 ],
 "metadata": {
  "kernelspec": {
   "display_name": "mlenv",
   "language": "python",
   "name": "mlenv"
  },
  "language_info": {
   "codemirror_mode": {
    "name": "ipython",
    "version": 3
   },
   "file_extension": ".py",
   "mimetype": "text/x-python",
   "name": "python",
   "nbconvert_exporter": "python",
   "pygments_lexer": "ipython3",
   "version": "3.7.10"
  }
 },
 "nbformat": 4,
 "nbformat_minor": 5
}
